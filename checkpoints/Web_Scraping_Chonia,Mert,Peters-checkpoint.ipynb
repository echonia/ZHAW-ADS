{
 "cells": [
  {
   "cell_type": "code",
   "execution_count": 7,
   "id": "e97158da",
   "metadata": {},
   "outputs": [],
   "source": [
    "import os\n",
    "import requests\n",
    "from bs4 import BeautifulSoup"
   ]
  },
  {
   "cell_type": "code",
   "execution_count": 8,
   "id": "4b2940a6",
   "metadata": {},
   "outputs": [],
   "source": [
    "srcs_sneakers=[]\n",
    "for itr in range(100):\n",
    "    try:\n",
    "        url=f\"https://www.koala.ch/en/shoes/sneakers.html?p={itr+1}\"\n",
    "        r=requests.get(url)\n",
    "        soup=BeautifulSoup(r.text, 'lxml')\n",
    "        imTags=soup.find_all('img',{'class':'product-image-photo'})\n",
    "        for x in imTags:\n",
    "            srcs_sneakers.append(x['src'])\n",
    "    except:\n",
    "        pass"
   ]
  },
  {
   "cell_type": "code",
   "execution_count": 9,
   "id": "bf3983f5",
   "metadata": {},
   "outputs": [],
   "source": [
    "srcs_sneakers = list(dict.fromkeys(srcs_sneakers))\n",
    "try:\n",
    "    srcs_sneakers2=srcs_sneakers[:1000]\n",
    "except:\n",
    "    srcs_sneakers2=srcs_sneakers\n",
    "for i,v in enumerate(srcs_sneakers2):\n",
    "    with open('sneakers/'+str(i)+'.jpg','wb') as f:\n",
    "        im=requests.get(v)\n",
    "        f.write(im.content)"
   ]
  },
  {
   "cell_type": "code",
   "execution_count": null,
   "id": "1f690607",
   "metadata": {},
   "outputs": [],
   "source": []
  },
  {
   "cell_type": "code",
   "execution_count": 12,
   "id": "51ced9ce",
   "metadata": {},
   "outputs": [],
   "source": [
    "srcs_ballerinas=[]\n",
    "for itr in range(100):\n",
    "    try:\n",
    "        url=f\"https://www.koala.ch/en/shoes/ballerinas.html?p={itr+1}\"\n",
    "        r=requests.get(url)\n",
    "        soup=BeautifulSoup(r.text, 'lxml')\n",
    "        imTags=soup.find_all('img',{'class':'product-image-photo'})\n",
    "        for x in imTags:\n",
    "            srcs_ballerinas.append(x['src'])\n",
    "    except:\n",
    "        pass"
   ]
  },
  {
   "cell_type": "code",
   "execution_count": 13,
   "id": "17b385bb",
   "metadata": {},
   "outputs": [],
   "source": [
    "srcs_ballerinas = list(dict.fromkeys(srcs_Ballerinas))\n",
    "try:\n",
    "    srcs_ballerinas2=srcs_ballerinas[:1000]\n",
    "except:\n",
    "    srcs_ballerinas2=srcs_ballerinas\n",
    "for i,v in enumerate(srcs_ballerinas2):\n",
    "    with open('ballerinas/'+str(i)+'.jpg','wb') as f:\n",
    "        im=requests.get(v)\n",
    "        f.write(im.content)"
   ]
  },
  {
   "cell_type": "code",
   "execution_count": null,
   "id": "995b18fd",
   "metadata": {},
   "outputs": [],
   "source": []
  },
  {
   "cell_type": "code",
   "execution_count": 14,
   "id": "e9b233ce",
   "metadata": {},
   "outputs": [],
   "source": [
    "srcs_boots=[]\n",
    "for itr in range(100):\n",
    "    try:\n",
    "        url=f\"https://www.koala.ch/en/shoes/boots.html?p={itr+1}\"\n",
    "        r=requests.get(url)\n",
    "        soup=BeautifulSoup(r.text, 'lxml')\n",
    "        imTags=soup.find_all('img',{'class':'product-image-photo'})\n",
    "        for x in imTags:\n",
    "            srcs_boots.append(x['src'])\n",
    "    except:\n",
    "        pass"
   ]
  },
  {
   "cell_type": "code",
   "execution_count": 15,
   "id": "99c9a6ba",
   "metadata": {},
   "outputs": [],
   "source": [
    "srcs_boots = list(dict.fromkeys(srcs_boots))\n",
    "try:\n",
    "    srcs_boots2=srcs_boots[:1000]\n",
    "except:\n",
    "    srcs_boots2=srcs_boots\n",
    "for i,v in enumerate(srcs_boots2):\n",
    "    with open('boots/'+str(i)+'.jpg','wb') as f:\n",
    "        im=requests.get(v)\n",
    "        f.write(im.content)"
   ]
  },
  {
   "cell_type": "code",
   "execution_count": null,
   "id": "4f9d86a4",
   "metadata": {},
   "outputs": [],
   "source": []
  },
  {
   "cell_type": "code",
   "execution_count": 18,
   "id": "808222be",
   "metadata": {},
   "outputs": [],
   "source": [
    "srcs_heels=[]\n",
    "for itr in range(100):\n",
    "    try:\n",
    "        url=f\"https://www.koala.ch/en/shoes/heels.html?p={itr}\"\n",
    "        r=requests.get(url)\n",
    "        soup=BeautifulSoup(r.text, 'lxml')\n",
    "        imTags=soup.find_all('img',{'class':'product-image-photo'})\n",
    "        for x in imTags:\n",
    "            srcs_heels.append(x['src'])\n",
    "    except:\n",
    "        pass"
   ]
  },
  {
   "cell_type": "code",
   "execution_count": 19,
   "id": "60f79b26",
   "metadata": {},
   "outputs": [],
   "source": [
    "srcs_heels = list(dict.fromkeys(srcs_heels))\n",
    "try:\n",
    "    srcs_heels2=srcs_heels[:1000]\n",
    "except:\n",
    "    srcs_heels2=srcs_heels\n",
    "for i,v in enumerate(srcs_heels2):\n",
    "    with open('heels/'+str(i)+'.jpg','wb') as f:\n",
    "        im=requests.get(v)\n",
    "        f.write(im.content)"
   ]
  },
  {
   "cell_type": "code",
   "execution_count": null,
   "id": "5874fa3e",
   "metadata": {},
   "outputs": [],
   "source": []
  }
 ],
 "metadata": {
  "kernelspec": {
   "display_name": "Python 3 (ipykernel)",
   "language": "python",
   "name": "python3"
  },
  "language_info": {
   "codemirror_mode": {
    "name": "ipython",
    "version": 3
   },
   "file_extension": ".py",
   "mimetype": "text/x-python",
   "name": "python",
   "nbconvert_exporter": "python",
   "pygments_lexer": "ipython3",
   "version": "3.8.13"
  }
 },
 "nbformat": 4,
 "nbformat_minor": 5
}
